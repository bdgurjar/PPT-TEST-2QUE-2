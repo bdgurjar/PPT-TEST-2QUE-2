{
 "cells": [
  {
   "cell_type": "code",
   "execution_count": 1,
   "id": "2288cfda-f3d9-4dc5-8a27-c7ca405c48fa",
   "metadata": {},
   "outputs": [
    {
     "name": "stdout",
     "output_type": "stream",
     "text": [
      "7 0 8 "
     ]
    }
   ],
   "source": [
    "class ListNode:\n",
    "    def __init__(self, val=0, next=None):\n",
    "        self.val = val\n",
    "        self.next = next\n",
    "\n",
    "\n",
    "def addTwoNumbers(l1, l2):\n",
    "    dummy = ListNode()\n",
    "    current = dummy\n",
    "    carry = 0\n",
    "\n",
    "    while l1 or l2:\n",
    "        sum = carry\n",
    "\n",
    "        if l1:\n",
    "            sum += l1.val\n",
    "            l1 = l1.next\n",
    "\n",
    "        if l2:\n",
    "            sum += l2.val\n",
    "            l2 = l2.next\n",
    "\n",
    "        current.next = ListNode(sum % 10)\n",
    "        current = current.next\n",
    "        carry = sum // 10\n",
    "\n",
    "    if carry > 0:\n",
    "        current.next = ListNode(carry)\n",
    "\n",
    "    return dummy.next\n",
    "\n",
    "\n",
    "l1 = ListNode(2)\n",
    "l1.next = ListNode(4)\n",
    "l1.next.next = ListNode(3)\n",
    "\n",
    "l2 = ListNode(5)\n",
    "l2.next = ListNode(6)\n",
    "l2.next.next = ListNode(4)\n",
    "\n",
    "\n",
    "\n",
    "result = addTwoNumbers(l1, l2)\n",
    "while result:\n",
    "    print(result.val, end=\" \")\n",
    "    result = result.next"
   ]
  },
  {
   "cell_type": "code",
   "execution_count": null,
   "id": "24ebae46-88bc-400f-a803-bdc00acc5bc5",
   "metadata": {},
   "outputs": [],
   "source": []
  }
 ],
 "metadata": {
  "kernelspec": {
   "display_name": "Python 3 (ipykernel)",
   "language": "python",
   "name": "python3"
  },
  "language_info": {
   "codemirror_mode": {
    "name": "ipython",
    "version": 3
   },
   "file_extension": ".py",
   "mimetype": "text/x-python",
   "name": "python",
   "nbconvert_exporter": "python",
   "pygments_lexer": "ipython3",
   "version": "3.10.6"
  }
 },
 "nbformat": 4,
 "nbformat_minor": 5
}
